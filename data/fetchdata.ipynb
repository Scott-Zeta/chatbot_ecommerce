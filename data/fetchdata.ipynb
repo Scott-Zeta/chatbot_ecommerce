{
 "cells": [
  {
   "cell_type": "code",
   "execution_count": 28,
   "metadata": {},
   "outputs": [
    {
     "name": "stdout",
     "output_type": "stream",
     "text": [
      "Data saved to products.csv\n"
     ]
    }
   ],
   "source": [
    "import requests\n",
    "import json\n",
    "import re\n",
    "import pandas as pd\n",
    "\n",
    "base_url = \"https://gonedotty.com.au/products/\"\n",
    "url = \"https://gonedotty.com.au/products.json?limit=250&page=1\"\n",
    "\n",
    "response = requests.get(url)\n",
    "\n",
    "products = response.json()['products']\n",
    "\n",
    "# print(json.dumps(products, indent=2))\n",
    "data = []\n",
    "\n",
    "for product in products:\n",
    "    title = product['title']\n",
    "    url = f'{base_url}{product[\"handle\"]}'\n",
    "    price = f\" ${product['variants'][0]['price']}\"\n",
    "    description =  re.sub(r'<[^>]*>', '', product['body_html'])\n",
    "    description = re.sub(r'\\s+', ' ', description).strip()\n",
    "    tags = ', '.join(map(str, product['tags']))\n",
    "    # print(f\"{title}\\n{url}\\n{price}\\n{description}\\n{tags}\\n\")\n",
    "    data.append({\n",
    "        'Title': title,\n",
    "        'URL': url,\n",
    "        'Price': price,\n",
    "        'Description': description,\n",
    "        'Tags': tags\n",
    "    })\n",
    "    \n",
    "df = pd.DataFrame(data)\n",
    "df.to_csv('products.csv', index=False)\n",
    "print(\"Data saved to products.csv\")   \n"
   ]
  }
 ],
 "metadata": {
  "kernelspec": {
   "display_name": "venv",
   "language": "python",
   "name": "python3"
  },
  "language_info": {
   "codemirror_mode": {
    "name": "ipython",
    "version": 3
   },
   "file_extension": ".py",
   "mimetype": "text/x-python",
   "name": "python",
   "nbconvert_exporter": "python",
   "pygments_lexer": "ipython3",
   "version": "3.11.2"
  }
 },
 "nbformat": 4,
 "nbformat_minor": 2
}
